{
 "cells": [
  {
   "cell_type": "code",
   "execution_count": 1,
   "id": "253bd51d-5557-49e2-bbfe-d5b01194884b",
   "metadata": {},
   "outputs": [],
   "source": [
    "# Write a PySpark code to display points table of IPL teams, giving ranks to each team based on decreasing order of points (if two teams \n",
    "# have same points then consider their NRR in decreasing order)\n",
    "\n",
    "import findspark\n",
    "findspark.init()"
   ]
  },
  {
   "cell_type": "code",
   "execution_count": 2,
   "id": "248fdbb8-5783-471b-8148-255f180a4307",
   "metadata": {},
   "outputs": [],
   "source": [
    "from pyspark.sql import SparkSession\n",
    "from pyspark.sql.window import Window\n",
    "from pyspark.sql.functions import *\n",
    "\n",
    "spark = SparkSession.builder.master(\"local\").appName(\"ipl problem\").getOrCreate()"
   ]
  },
  {
   "cell_type": "code",
   "execution_count": 4,
   "id": "efbfd989-9b5d-4931-aecb-1ee25f2ac2fa",
   "metadata": {},
   "outputs": [
    {
     "name": "stdout",
     "output_type": "stream",
     "text": [
      "root\n",
      " |-- Team: string (nullable = true)\n",
      " |-- M: long (nullable = true)\n",
      " |-- W: long (nullable = true)\n",
      " |-- L: long (nullable = true)\n",
      " |-- NRR: double (nullable = true)\n",
      " |-- Pts: long (nullable = true)\n",
      "\n",
      "+----+---+---+---+------+---+\n",
      "|Team|M  |W  |L  |NRR   |Pts|\n",
      "+----+---+---+---+------+---+\n",
      "|DC  |5  |1  |4  |-1.37 |2  |\n",
      "|RCB |5  |1  |4  |-0.843|2  |\n",
      "|MI  |4  |1  |3  |-0.704|2  |\n",
      "|PBKS|5  |2  |3  |-0.196|4  |\n",
      "|GT  |6  |3  |3  |-0.637|6  |\n",
      "|SRH |5  |3  |2  |0.344 |6  |\n",
      "|CSK |5  |3  |2  |0.666 |6  |\n",
      "|LSG |4  |3  |1  |0.775 |6  |\n",
      "|KKR |4  |3  |1  |1.528 |6  |\n",
      "|RR  |5  |4  |1  |0.871 |8  |\n",
      "+----+---+---+---+------+---+\n",
      "\n"
     ]
    }
   ],
   "source": [
    "columns = [\"Team\", \"M\", \"W\", \"L\", \"NRR\", \"Pts\"]\n",
    "data = [('DC', 5, 1, 4, -1.370, 2), \\\n",
    "        ('RCB', 5, 1, 4, -0.843, 2), \\\n",
    "        ('MI', 4, 1, 3, -0.704, 2), \\\n",
    "        ('PBKS', 5, 2, 3, -0.196, 4), \\\n",
    "        ('GT', 6, 3, 3, -0.637, 6), \\\n",
    "        ('SRH', 5, 3, 2, 0.344, 6), \\\n",
    "        ('CSK', 5, 3, 2, 0.666, 6), \\\n",
    "        ('LSG', 4, 3, 1, 0.775, 6), \\\n",
    "        ('KKR', 4, 3, 1, 1.528, 6), \\\n",
    "        ('RR', 5, 4, 1, 0.871, 8)]\n",
    "\n",
    "ipl_df = spark.createDataFrame(data=data,schema=columns)\n",
    "ipl_df.printSchema()\n",
    "ipl_df.show(truncate=False)"
   ]
  },
  {
   "cell_type": "code",
   "execution_count": 5,
   "id": "570a9ba4-f4b2-4ef1-8470-430ad264e645",
   "metadata": {},
   "outputs": [
    {
     "name": "stdout",
     "output_type": "stream",
     "text": [
      "+----+---+---+---+------+---+---+\n",
      "|Team|M  |W  |L  |NRR   |Pts|Pos|\n",
      "+----+---+---+---+------+---+---+\n",
      "|RR  |5  |4  |1  |0.871 |8  |1  |\n",
      "|KKR |4  |3  |1  |1.528 |6  |2  |\n",
      "|LSG |4  |3  |1  |0.775 |6  |3  |\n",
      "|CSK |5  |3  |2  |0.666 |6  |4  |\n",
      "|SRH |5  |3  |2  |0.344 |6  |5  |\n",
      "|GT  |6  |3  |3  |-0.637|6  |6  |\n",
      "|PBKS|5  |2  |3  |-0.196|4  |7  |\n",
      "|MI  |4  |1  |3  |-0.704|2  |8  |\n",
      "|RCB |5  |1  |4  |-0.843|2  |9  |\n",
      "|DC  |5  |1  |4  |-1.37 |2  |10 |\n",
      "+----+---+---+---+------+---+---+\n",
      "\n"
     ]
    }
   ],
   "source": [
    "windowSpec  = Window.orderBy(col(\"pts\").desc(),col(\"NRR\").desc())\n",
    "ipl_df.withColumn(\"Pos\",row_number().over(windowSpec)) \\\n",
    "    .show(truncate=False)"
   ]
  }
 ],
 "metadata": {
  "kernelspec": {
   "display_name": "Python 3 (ipykernel)",
   "language": "python",
   "name": "python3"
  },
  "language_info": {
   "codemirror_mode": {
    "name": "ipython",
    "version": 3
   },
   "file_extension": ".py",
   "mimetype": "text/x-python",
   "name": "python",
   "nbconvert_exporter": "python",
   "pygments_lexer": "ipython3",
   "version": "3.9.13"
  }
 },
 "nbformat": 4,
 "nbformat_minor": 5
}
